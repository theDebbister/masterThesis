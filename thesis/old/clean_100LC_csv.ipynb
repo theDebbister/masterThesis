{
 "cells": [
  {
   "cell_type": "code",
   "execution_count": 1,
   "id": "brutal-least",
   "metadata": {},
   "outputs": [],
   "source": [
    "import pandas as pd"
   ]
  },
  {
   "cell_type": "code",
   "execution_count": 3,
   "id": "breathing-mitchell",
   "metadata": {},
   "outputs": [],
   "source": [
    "old = pd.read_csv(\"langInfo100LC.csv\")"
   ]
  },
  {
   "cell_type": "code",
   "execution_count": 4,
   "id": "elementary-inspector",
   "metadata": {},
   "outputs": [
    {
     "name": "stdout",
     "output_type": "stream",
     "text": [
      "<class 'pandas.core.frame.DataFrame'>\n",
      "RangeIndex: 100 entries, 0 to 99\n",
      "Data columns (total 19 columns):\n",
      " #   Column                Non-Null Count  Dtype  \n",
      "---  ------                --------------  -----  \n",
      " 0   iso639 3              100 non-null    object \n",
      " 1   glottocode            100 non-null    object \n",
      " 2   wals code             100 non-null    object \n",
      " 3   name glotto           100 non-null    object \n",
      " 4   name wals             100 non-null    object \n",
      " 5   level                 100 non-null    object \n",
      " 6   status                100 non-null    object \n",
      " 7   family id             91 non-null     object \n",
      " 8   top level family      91 non-null     object \n",
      " 9   genus wals            100 non-null    object \n",
      " 10  family wals           100 non-null    object \n",
      " 11  macroarea glotto      100 non-null    object \n",
      " 12  macroarea wals        100 non-null    object \n",
      " 13  latitude glotto       100 non-null    float64\n",
      " 14  longitude glotto      100 non-null    float64\n",
      " 15  latitude wals         100 non-null    float64\n",
      " 16  longitude wals        100 non-null    float64\n",
      " 17  name                  82 non-null     object \n",
      " 18  folder language name  82 non-null     object \n",
      "dtypes: float64(4), object(15)\n",
      "memory usage: 15.0+ KB\n"
     ]
    }
   ],
   "source": [
    "old.info()"
   ]
  },
  {
   "cell_type": "code",
   "execution_count": 17,
   "id": "exact-groove",
   "metadata": {},
   "outputs": [],
   "source": [
    "new = old[['iso639 3', 'name wals', 'family wals']]"
   ]
  },
  {
   "cell_type": "code",
   "execution_count": 18,
   "id": "collect-radical",
   "metadata": {},
   "outputs": [],
   "source": [
    "new = new.rename(columns={'iso639 3': 'Iso639-3', 'name wals': 'Name-WALS', 'family wals': 'Family-WALS'})"
   ]
  },
  {
   "cell_type": "code",
   "execution_count": 19,
   "id": "manufactured-vacuum",
   "metadata": {},
   "outputs": [
    {
     "data": {
      "text/html": [
       "<div>\n",
       "<style scoped>\n",
       "    .dataframe tbody tr th:only-of-type {\n",
       "        vertical-align: middle;\n",
       "    }\n",
       "\n",
       "    .dataframe tbody tr th {\n",
       "        vertical-align: top;\n",
       "    }\n",
       "\n",
       "    .dataframe thead th {\n",
       "        text-align: right;\n",
       "    }\n",
       "</style>\n",
       "<table border=\"1\" class=\"dataframe\">\n",
       "  <thead>\n",
       "    <tr style=\"text-align: right;\">\n",
       "      <th></th>\n",
       "      <th>Iso639-3</th>\n",
       "      <th>Name-WALS</th>\n",
       "      <th>Family-WALS</th>\n",
       "    </tr>\n",
       "  </thead>\n",
       "  <tbody>\n",
       "    <tr>\n",
       "      <th>0</th>\n",
       "      <td>abk</td>\n",
       "      <td>Abkhaz</td>\n",
       "      <td>Northwest Caucasian</td>\n",
       "    </tr>\n",
       "    <tr>\n",
       "      <th>1</th>\n",
       "      <td>amp</td>\n",
       "      <td>Alamblak</td>\n",
       "      <td>Sepik</td>\n",
       "    </tr>\n",
       "    <tr>\n",
       "      <th>2</th>\n",
       "      <td>aey</td>\n",
       "      <td>Amele</td>\n",
       "      <td>Trans-New Guinea</td>\n",
       "    </tr>\n",
       "    <tr>\n",
       "      <th>3</th>\n",
       "      <td>apu</td>\n",
       "      <td>Apurinã</td>\n",
       "      <td>Arawakan</td>\n",
       "    </tr>\n",
       "    <tr>\n",
       "      <th>4</th>\n",
       "      <td>bmi</td>\n",
       "      <td>Bagirmi</td>\n",
       "      <td>Central Sudanic</td>\n",
       "    </tr>\n",
       "    <tr>\n",
       "      <th>...</th>\n",
       "      <td>...</td>\n",
       "      <td>...</td>\n",
       "      <td>...</td>\n",
       "    </tr>\n",
       "    <tr>\n",
       "      <th>95</th>\n",
       "      <td>mzh</td>\n",
       "      <td>Wichí</td>\n",
       "      <td>Matacoan</td>\n",
       "    </tr>\n",
       "    <tr>\n",
       "      <th>96</th>\n",
       "      <td>yad</td>\n",
       "      <td>Yagua</td>\n",
       "      <td>Peba-Yaguan</td>\n",
       "    </tr>\n",
       "    <tr>\n",
       "      <th>97</th>\n",
       "      <td>yaq</td>\n",
       "      <td>Yaqui</td>\n",
       "      <td>Uto-Aztecan</td>\n",
       "    </tr>\n",
       "    <tr>\n",
       "      <th>98</th>\n",
       "      <td>yor</td>\n",
       "      <td>Yoruba</td>\n",
       "      <td>Niger-Congo</td>\n",
       "    </tr>\n",
       "    <tr>\n",
       "      <th>99</th>\n",
       "      <td>zul</td>\n",
       "      <td>Zulu</td>\n",
       "      <td>Niger-Congo</td>\n",
       "    </tr>\n",
       "  </tbody>\n",
       "</table>\n",
       "<p>100 rows × 3 columns</p>\n",
       "</div>"
      ],
      "text/plain": [
       "   Iso639-3 Name-WALS          Family-WALS\n",
       "0       abk    Abkhaz  Northwest Caucasian\n",
       "1       amp  Alamblak                Sepik\n",
       "2       aey     Amele     Trans-New Guinea\n",
       "3       apu   Apurinã             Arawakan\n",
       "4       bmi   Bagirmi      Central Sudanic\n",
       "..      ...       ...                  ...\n",
       "95      mzh     Wichí             Matacoan\n",
       "96      yad     Yagua          Peba-Yaguan\n",
       "97      yaq     Yaqui          Uto-Aztecan\n",
       "98      yor    Yoruba          Niger-Congo\n",
       "99      zul      Zulu          Niger-Congo\n",
       "\n",
       "[100 rows x 3 columns]"
      ]
     },
     "execution_count": 19,
     "metadata": {},
     "output_type": "execute_result"
    }
   ],
   "source": [
    "new"
   ]
  },
  {
   "cell_type": "code",
   "execution_count": 20,
   "id": "negative-austin",
   "metadata": {},
   "outputs": [],
   "source": [
    "new.to_csv('langInfo100LCclean.csv', index=False)"
   ]
  },
  {
   "cell_type": "code",
   "execution_count": null,
   "id": "headed-innocent",
   "metadata": {},
   "outputs": [],
   "source": []
  }
 ],
 "metadata": {
  "kernelspec": {
   "display_name": "Python 3",
   "language": "python",
   "name": "python3"
  },
  "language_info": {
   "codemirror_mode": {
    "name": "ipython",
    "version": 3
   },
   "file_extension": ".py",
   "mimetype": "text/x-python",
   "name": "python",
   "nbconvert_exporter": "python",
   "pygments_lexer": "ipython3",
   "version": "3.9.1"
  }
 },
 "nbformat": 4,
 "nbformat_minor": 5
}
